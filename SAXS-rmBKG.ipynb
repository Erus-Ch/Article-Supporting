{
 "cells": [
  {
   "cell_type": "code",
   "execution_count": 23,
   "id": "c6659eb3",
   "metadata": {},
   "outputs": [
    {
     "name": "stdout",
     "output_type": "stream",
     "text": [
      "1.3210068960384557e-06\n",
      "598 598\n"
     ]
    }
   ],
   "source": [
    "import numpy as np\n",
    "import pandas as pd \n",
    "import time\n",
    "import tracemalloc\n",
    "import math\n",
    "import matplotlib.pyplot as plt\n",
    "\n",
    "\n",
    "num=0\n",
    "num1=0\n",
    "data=[]\n",
    "bkg=[]\n",
    "with open(\"C:/Users/41227/Desktop/Signal.txt\",\"r\") as f:\n",
    "    for line in f.readlines():\n",
    "            line = line.strip(\"\\n\")\n",
    "            line = line.split()\n",
    "            data.append(line)\n",
    "            num=num+1\n",
    "f.close()\n",
    "\n",
    "with open(\"C:/Users/41227/Desktop/bkg.txt\",\"r\") as f:\n",
    "    for line in f.readlines():\n",
    "            line = line.strip(\"\\n\")\n",
    "            line = line.split()\n",
    "            bkg.append(line)\n",
    "            num1=num1+1\n",
    "f.close()\n",
    "\n",
    "print(data[3][2])\n",
    "ABS=[]\n",
    "print(num, num1)\n",
    "if (num==num1):\n",
    "    for i in range(0,num-1,1):\n",
    "        ABS.append([0,0,0])\n",
    "        ABS[i][0]=float(data[i][0])\n",
    "        ABS[i][1]=float(data[i][1])-float(bkg[i][1])\n",
    "        ABS[i][2]=float(data[i][2])-float(bkg[i][2])\n",
    "\n",
    "# Create DataFrame\n",
    "df = pd.DataFrame(ABS)\n",
    "\n",
    "# Export to CSV\n",
    "df.to_csv('output.csv', index=False)"
   ]
  },
  {
   "cell_type": "code",
   "execution_count": 33,
   "id": "48558828",
   "metadata": {},
   "outputs": [],
   "source": [
    "import numpy as np\n",
    "import pandas as pd \n",
    "import time\n",
    "import tracemalloc\n",
    "import math\n",
    "import matplotlib.pyplot as plt\n",
    "\n",
    "\n",
    "num=0\n",
    "num1=0\n",
    "data=[]\n",
    "bkg=[]\n",
    "with open(\"C:/Users/41227/Desktop/Signal.txt\",\"r\") as f:\n",
    "    for line in f.readlines():\n",
    "            line = line.strip(\"\\n\")\n",
    "            line = line.split()\n",
    "            data.append(line)\n",
    "            num=num+1\n",
    "f.close()\n",
    "\n",
    "\n",
    "# Create DataFrame\n",
    "df = pd.DataFrame(data)\n",
    "\n",
    "# Export to CSV\n",
    "df.to_csv('0006.csv', index=False)"
   ]
  },
  {
   "cell_type": "code",
   "execution_count": null,
   "id": "a36e7dd1",
   "metadata": {},
   "outputs": [],
   "source": []
  }
 ],
 "metadata": {
  "kernelspec": {
   "display_name": "Python 3 (ipykernel)",
   "language": "python",
   "name": "python3"
  },
  "language_info": {
   "codemirror_mode": {
    "name": "ipython",
    "version": 3
   },
   "file_extension": ".py",
   "mimetype": "text/x-python",
   "name": "python",
   "nbconvert_exporter": "python",
   "pygments_lexer": "ipython3",
   "version": "3.10.11"
  }
 },
 "nbformat": 4,
 "nbformat_minor": 5
}
